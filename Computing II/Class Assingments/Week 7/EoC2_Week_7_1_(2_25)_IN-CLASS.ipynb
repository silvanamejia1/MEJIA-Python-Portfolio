{
 "cells": [
  {
   "cell_type": "markdown",
   "metadata": {
    "id": "K8dtVfO0BmMO"
   },
   "source": [
    "## Arrays in Python\n",
    "- **Concept:** An array is an ordered collection of items.\n",
    "- **In Python:** We use lists, which are dynamic arrays.\n",
    "- **Performance:** Direct indexing is O(1).\n",
    "- **Interview Tip:** Practice common array problems (e.g., reversing, rotating arrays) to build your pattern recognition."
   ]
  },
  {
   "cell_type": "code",
   "execution_count": null,
   "metadata": {
    "id": "6Pzda7X7Bp0s"
   },
   "outputs": [],
   "source": [
    "# Creating a simple list (dynamic array) in Python\n",
    "\n",
    "# Accessing an element using zero-based indexing\n"
   ]
  },
  {
   "cell_type": "markdown",
   "metadata": {
    "id": "CWENDWYrDzH-"
   },
   "source": [
    "### Interview Example: Rotate an Array In-Place\n",
    "\n",
    "Many interview problems (like rotating arrays) assume you have a strong grasp of array basics—such as indexing, slicing, and in-place modifications. Knowing how to manipulate arrays efficiently is key to solving more advanced problems.\n",
    "\n",
    "#### **Approach: The Three-Reversal Method**\n",
    "A common efficient approach is to use the three-reversal method:\n",
    "\n",
    "- 1. Reverse the entire array.\n",
    "- 2. Reverse the first `k` elements.\n",
    "- 3. Reverse the remaining `n - k` elements.\n",
    "\n",
    "This approach rotates the array in-place and has a time complexity of O(n) with O(1) extra space.\n",
    "\n",
    "\n",
    "```\n",
    "# Example usage:\n",
    "nums = [1, 2, 3, 4, 5, 6, 7]\n",
    "rotate(nums, 3)\n",
    "print(\"Rotated Array:\", nums)\n",
    "```\n",
    "```\n",
    "# Expected output: [5, 6, 7, 1, 2, 3, 4]\n",
    "```\n"
   ]
  },
  {
   "cell_type": "markdown",
   "metadata": {
    "id": "Zly0mQTRFksN"
   },
   "source": [
    "**Step-by-Step Explanation**\n",
    "\n",
    "**1.   Normalize k:**\n",
    "- If k is larger than the length of the array, k %= n reduces it so that only the effective rotations are performed.\n",
    "\n",
    "**2.   Reverse the Entire Array:**\n",
    "- Reversing the whole array prepares it so that the elements we need at the front end up at the beginning when partially reversed again. The entire array is reversed using `nums[::-1]`.\n",
    "\n",
    "**3.   Reverse the First k Elements:**\n",
    "- The first k elements of the reversed array are reversed again. This puts the first k elements (which were originally at the end) into the correct order.\n",
    "\n",
    "**4.   Reverse the Remaining n - k Elements:**\n",
    "- This final reversal places the remaining elements in their proper order.\n",
    "\n",
    "**5.   Combine:**\n",
    "- The two segments are concatenated to form the final rotated array: `[5, 6, 7, 1, 2, 3, 4]`.\n",
    "\n",
    "\n"
   ]
  },
  {
   "cell_type": "code",
   "execution_count": null,
   "metadata": {
    "id": "p2LezO0SGoaU"
   },
   "outputs": [],
   "source": [
    "nums = [1,2,3,4,5,6,7]\n",
    "\n",
    "#normalize k\n",
    "n = len(nums)\n",
    "k = 3\n",
    "\n",
    "k%=n\n",
    "\n",
    "#Revers ethe entire array\n",
    "rev_nums = nums[::-1]\n",
    "\n",
    "#Reverse teh first k elemnts in our reverser array\n",
    "k_rev=rev_nums[:k][::-1]\n",
    "\n",
    "#Reverse remining elements\n",
    "rev_nums[k:][::-1]"
   ]
  },
  {
   "cell_type": "markdown",
   "metadata": {
    "id": "udFTETgWE1H5"
   },
   "source": [
    "## Stacks in Python"
   ]
  },
  {
   "cell_type": "markdown",
   "metadata": {
    "id": "8SLVA4M6LJzx"
   },
   "source": [
    "### Browser History\n",
    "- **Concept:**  \n",
    "  - Stacks use a Last-In, First-Out order.\n",
    "  - Browser history: \"Back\" button pops the last URL.\n",
    "- **Performance:**  \n",
    "  - Both push and pop operations run in O(1) time."
   ]
  },
  {
   "cell_type": "code",
   "execution_count": null,
   "metadata": {
    "id": "ueyVG2yVK9GY"
   },
   "outputs": [],
   "source": [
    "# Building a \"BrowserHistory\" class that returns the previously stored url\n",
    "\n",
    "\n",
    "# Demonstration of the stack behavior:\n"
   ]
  },
  {
   "cell_type": "markdown",
   "metadata": {
    "id": "1aAobNytBmJp"
   },
   "source": [
    "### Interview Example: Palindrome Checker\n",
    "**Step-by-Step Explanation**\n",
    "**1. Normalization:**\n",
    "- We convert the input string to lowercase so that comparisons are case-insensitive.\n",
    "\n",
    "**2. Stack Creation and Population:**\n",
    "- We create an empty list stack and push each character of the string onto the stack.\n",
    "\n",
    "- For \"racecar\", the stack becomes `['r', 'a', 'c', 'e', 'c', 'a', 'r']`.\n",
    "\n",
    "**3. Reversing the String:**\n",
    "- We initialize an empty string `reversed_str`. Then, while the stack is not empty, we pop characters from the stack (which removes them in reverse order) and append them to `reversed_str`.\n",
    "- Popping all elements from the stack gives us \"racecar\" for a palindrome or a different string if it's not one.\n",
    "\n",
    "**4. Comparison:**\n",
    "Finally, we compare the normalized original string with the reversed string. If they match, the string is a palindrome.\n",
    "\n",
    "\n",
    "\n",
    "```\n",
    "# Test cases\n",
    "print(\"racecar:\", is_palindrome(\"racecar\"))   # Expected True\n",
    "print(\"hello:\", is_palindrome(\"hello\"))         # Expected False\n",
    "print(\"Madam:\", is_palindrome(\"Madam\"))         # Expected True\n",
    "```\n",
    "\n",
    "\n"
   ]
  },
  {
   "cell_type": "code",
   "execution_count": null,
   "metadata": {
    "id": "pdCBhO4MMJgj"
   },
   "outputs": [],
   "source": []
  },
  {
   "cell_type": "markdown",
   "metadata": {
    "id": "BT447BPbQI3m"
   },
   "source": [
    "## Queues in Python\n",
    "[See Geek for Geeks on Deque in Python](https://www.geeksforgeeks.org/deque-in-python/)"
   ]
  },
  {
   "cell_type": "markdown",
   "metadata": {
    "id": "3zPA2t26BmHE"
   },
   "source": [
    "### Support Queue Using deque\n",
    "- **Concept:**  \n",
    "  - A queue maintains FIFO order.\n",
    "  - `deque` allows for efficient append and popleft operations (O(1)).\n",
    "- **Interview Tip:**  \n",
    "  - Understand queue applications, such as level-order tree traversals (BFS), which are common in interview questions.\n"
   ]
  },
  {
   "cell_type": "code",
   "execution_count": null,
   "metadata": {
    "id": "5L7yZUMelrCJ"
   },
   "outputs": [],
   "source": []
  },
  {
   "cell_type": "markdown",
   "metadata": {
    "id": "ne5e8C0uRGOt"
   },
   "source": [
    "### Interview Example: Scheduling Tasks"
   ]
  },
  {
   "cell_type": "markdown",
   "metadata": {
    "id": "GL24lgGfRg9f"
   },
   "source": [
    "**Step-by-Step Explanation**\n",
    "\n",
    "**1.   Queue Initialization:**\n",
    "We create a queue using deque(tasks), which organizes our tasks in the order they were added.\n",
    "\n",
    "\n",
    "**2.   Processing Loop:**\n",
    "We repeatedly remove the task at the front of the queue using `popleft()` (simulating a FIFO order) and then print it out.\n",
    "\n",
    "**3. Final Output:**\n",
    "The tasks are processed in the exact order they arrived, demonstrating a basic scheduling scenario with a queue."
   ]
  },
  {
   "cell_type": "code",
   "execution_count": null,
   "metadata": {
    "colab": {
     "base_uri": "https://localhost:8080/"
    },
    "executionInfo": {
     "elapsed": 31,
     "status": "ok",
     "timestamp": 1740439508319,
     "user": {
      "displayName": "David Smiley",
      "userId": "04196970161563073370"
     },
     "user_tz": 300
    },
    "id": "GJiXVrMMRw-G",
    "outputId": "75752a5f-209b-441b-8239-795dfac3b57a"
   },
   "outputs": [
    {
     "name": "stdout",
     "output_type": "stream",
     "text": [
      "Processing: Task 1: Check email\n",
      "Processing: Task 2: Attend meeting\n",
      "Processing: Task 3: Write report\n"
     ]
    }
   ],
   "source": [
    "from collections import deque\n",
    "\n",
    "def process_tasks(tasks):\n",
    "    \"\"\"\n",
    "    Processes tasks in a First-In-First-Out (FIFO) manner using a queue.\n",
    "\n",
    "    Interview Connection:\n",
    "    Queue-based problems often show up in scheduling questions where tasks are processed\n",
    "    in the order they arrive.\n",
    "\n",
    "    Steps:\n",
    "    1. Initialize a queue with the list of tasks.\n",
    "    2. While the queue is not empty, remove the task at the front.\n",
    "    3. Process (print) each task.\n",
    "    \"\"\"\n",
    "    # Step 1: Initialize the queue with the list of tasks.\n",
    "    queue = deque(tasks)\n",
    "\n",
    "    # Step 2: Process tasks until the queue is empty.\n",
    "    while queue:\n",
    "        # Remove and get the task at the front of the queue.\n",
    "        current_task = queue.popleft()\n",
    "        # Step 3: Process the task.\n",
    "        print(\"Processing:\", current_task)\n",
    "\n",
    "# Example usage:\n",
    "tasks = [\"Task 1: Check email\", \"Task 2: Attend meeting\", \"Task 3: Write report\"]\n",
    "process_tasks(tasks)"
   ]
  }
 ],
 "metadata": {
  "colab": {
   "authorship_tag": "ABX9TyO2dUYSRgH2M4e78HIMtOAg",
   "provenance": [],
   "toc_visible": true
  },
  "kernelspec": {
   "display_name": "Python 3",
   "name": "python3"
  },
  "language_info": {
   "name": "python"
  }
 },
 "nbformat": 4,
 "nbformat_minor": 0
}
