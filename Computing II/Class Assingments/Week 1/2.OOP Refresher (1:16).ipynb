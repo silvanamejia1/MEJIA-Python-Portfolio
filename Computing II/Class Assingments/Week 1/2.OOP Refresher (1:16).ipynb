{
  "cells": [
    {
      "cell_type": "markdown",
      "metadata": {
        "id": "GC41gU5-kTBC"
      },
      "source": [
        "## **Main Objective**\n",
        "### You will build a basic ticketing system that includes:\n",
        "\n",
        "1. A base Ticket class to represent a generic ticket.\n",
        "2. Two specialized ticket types:\n",
        "\n",
        "    a. `GeneralAdmissionTicket`: Represents a general admission ticket with a fixed price.\n",
        "\n",
        "    b. `StudentTicket`: Represents a student ticket with an additional student ID and validation logic."
      ]
    },
    {
      "cell_type": "markdown",
      "metadata": {
        "id": "F80Os2cXlimE"
      },
      "source": [
        "### A. Create the Ticket Base Class\n",
        "Define a Ticket class with the following attributes:\n",
        "1. `ticket_id`: A unique identifier for the ticket.\n",
        "2. `seat_number`: The seat assigned to the ticket.\n",
        "3. `price`: The cost of the ticket."
      ]
    },
    {
      "cell_type": "code",
      "execution_count": null,
      "metadata": {
        "id": "0DhWwgiYld-V"
      },
      "outputs": [],
      "source": [
        "# Base Ticket Class\n",
        "class Ticket:\n",
        "    def __init__(self, ticket_id, seat_number, price):\n",
        "        self.ticket_id = ticket_id\n",
        "        self.seat_number = seat_number\n",
        "        self.price = price"
      ]
    },
    {
      "cell_type": "markdown",
      "metadata": {
        "id": "IOzgXh6bl9UI"
      },
      "source": [
        "### B. Create the GeneralAdmissionTicket Subclass\n",
        "1. Define a class called `GeneralAdmissionTicket` that inherits all attributes from `Ticket`.\n",
        "2. Set the price to a fixed value of 50."
      ]
    },
    {
      "cell_type": "code",
      "execution_count": null,
      "metadata": {
        "id": "CHeB_Z3YlgeY"
      },
      "outputs": [],
      "source": [
        "# General Admission Ticket Subclass\n",
        "class GeneralAdmissionTicket(Ticket):\n",
        "    def __init__(self, ticket_id, seat_number, price):\n",
        "        super().__init__(ticket_id, seat_number, price=50)"
      ]
    },
    {
      "cell_type": "markdown",
      "metadata": {
        "id": "OStMzhxsmRce"
      },
      "source": [
        "### C. Create the StudentTicket Subclass\n",
        "1. Define a class called `StudentTicket` that inherits from `Ticket`.\n",
        "2. Add an attribute called `student_id`.\n",
        "3. Set the price to a fixed value of 30.\n",
        "4. Implement a `validate()` method to check if the `student_id` is in the provided list called `student_database`.\n",
        "    - If `student_id` is in `student_database`, then return `True`\n",
        "    - If `student_id` is not in `student_database`, then return `False`\n",
        "\n",
        "\n",
        "Call the base class constructor using super() to initialize ticket_id, seat_number, and the price (set to $30).\n",
        "Add an attribute student_id to store the student's ID.\n",
        "Implement a validate() method to check if the student_id is in a provided student_database."
      ]
    },
    {
      "cell_type": "code",
      "execution_count": null,
      "metadata": {
        "id": "KUdV1C4XmP_G"
      },
      "outputs": [],
      "source": [
        "# Student Ticket Subclass\n",
        "class StudentTicket(Ticket):\n",
        "    def __init__(self, ticket_id, seat_number, student_id):\n",
        "        super().__init__(ticket_id, seat_number, price=30)\n",
        "        self.student_id = student_id\n",
        "\n",
        "    def validate(self, student_database):\n",
        "        return self.student_id in student_database"
      ]
    },
    {
      "cell_type": "markdown",
      "metadata": {
        "id": "9vC4n8dkpG7J"
      },
      "source": [
        "### D. Test the Classes\n",
        "1. Create instances of `GeneralAdmissionTicket` and `StudentTicket` called: `general_valid`, `student_valid`, and `student_invalid`.\n",
        "2. Using f-strings, print the ticket details for each ticket.\n",
        "3. Use the `validate()` method on a `StudentTicket` to test if it correctly checks the `student_id` against the database."
      ]
    },
    {
      "cell_type": "code",
      "execution_count": null,
      "metadata": {
        "id": "jep2GBvIpKDE"
      },
      "outputs": [],
      "source": [
        "# Database of valid student IDs\n",
        "student_database = [\"ND12345\", \"ND67890\", \"ND54321\"]"
      ]
    },
    {
      "cell_type": "code",
      "execution_count": null,
      "metadata": {
        "colab": {
          "base_uri": "https://localhost:8080/"
        },
        "id": "IdTw95OKp6Xd",
        "outputId": "468afe69-aaeb-4fc7-d580-be59cb727417"
      },
      "outputs": [
        {
          "name": "stdout",
          "output_type": "stream",
          "text": [
            "False\n"
          ]
        }
      ],
      "source": [
        "# Create tickets\n",
        "general_ticket = GeneralAdmissionTicket(ticket_id=1, seat_number=\"A12\")\n",
        "student_ticket_valid = StudentTicket(ticket_id=2, seat_number=\"B14\", student_id=\"ND12345\")\n",
        "student_ticket_invalid = StudentTicket(ticket_id=3, seat_number=\"C15\", student_id=\"ND00000\")\n",
        "\n",
        "print(student_ticket_invalid.validate(student_database))"
      ]
    }
  ],
  "metadata": {
    "colab": {
      "provenance": [],
      "toc_visible": true
    },
    "kernelspec": {
      "display_name": "base",
      "language": "python",
      "name": "python3"
    },
    "language_info": {
      "name": "python",
      "version": "3.12.7"
    }
  },
  "nbformat": 4,
  "nbformat_minor": 0
}
