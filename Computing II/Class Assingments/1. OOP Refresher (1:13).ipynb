{
  "nbformat": 4,
  "nbformat_minor": 0,
  "metadata": {
    "colab": {
      "provenance": []
    },
    "kernelspec": {
      "name": "python3",
      "display_name": "Python 3"
    },
    "language_info": {
      "name": "python"
    }
  },
  "cells": [
    {
      "cell_type": "markdown",
      "source": [
        "## **Main Objective**\n",
        "### You will build a basic ticketing system that includes:\n",
        "\n",
        "1. A base Ticket class to represent a generic ticket.\n",
        "2. Two specialized ticket types:\n",
        "\n",
        "    a. `GeneralAdmissionTicket`: Represents a general admission ticket with a fixed price.\n",
        "\n",
        "    b. `StudentTicket`: Represents a student ticket with an additional student ID and validation logic."
      ],
      "metadata": {
        "id": "GC41gU5-kTBC"
      }
    },
    {
      "cell_type": "markdown",
      "source": [
        "### A. Create the Ticket Base Class\n",
        "Define a Ticket class with the following attributes:\n",
        "1. `ticket_id`: A unique identifier for the ticket.\n",
        "2. `seat_number`: The seat assigned to the ticket.\n",
        "3. `price`: The cost of the ticket."
      ],
      "metadata": {
        "id": "F80Os2cXlimE"
      }
    },
    {
      "cell_type": "code",
      "source": [
        "# Base Ticket Class\n"
      ],
      "metadata": {
        "id": "0DhWwgiYld-V"
      },
      "execution_count": null,
      "outputs": []
    },
    {
      "cell_type": "markdown",
      "source": [
        "### B. Create the GeneralAdmissionTicket Subclass\n",
        "1. Define a class called `GeneralAdmissionTicket` that inherits all attributes from `Ticket`.\n",
        "2. Set the price to a fixed value of 50."
      ],
      "metadata": {
        "id": "IOzgXh6bl9UI"
      }
    },
    {
      "cell_type": "code",
      "source": [
        "# General Admission Ticket Subclass\n"
      ],
      "metadata": {
        "id": "CHeB_Z3YlgeY"
      },
      "execution_count": null,
      "outputs": []
    },
    {
      "cell_type": "markdown",
      "source": [
        "### C. Create the StudentTicket Subclass\n",
        "1. Define a class called `StudentTicket` that inherits from `Ticket`.\n",
        "2. Add an attribute called `student_id`.\n",
        "3. Set the price to a fixed value of 30.\n",
        "4. Implement a `validate()` method to check if the `student_id` is in the provided list called `student_database`.\n",
        "    - If `student_id` is in `student_database`, then return `True`\n",
        "    - If `student_id` is not in `student_database`, then return `False`\n",
        "\n",
        "\n",
        "Call the base class constructor using super() to initialize ticket_id, seat_number, and the price (set to $30).\n",
        "Add an attribute student_id to store the student's ID.\n",
        "Implement a validate() method to check if the student_id is in a provided student_database."
      ],
      "metadata": {
        "id": "OStMzhxsmRce"
      }
    },
    {
      "cell_type": "code",
      "source": [
        "# Student Ticket Subclass\n"
      ],
      "metadata": {
        "id": "KUdV1C4XmP_G"
      },
      "execution_count": null,
      "outputs": []
    },
    {
      "cell_type": "markdown",
      "source": [
        "### D. Test the Classes\n",
        "1. Create instances of `GeneralAdmissionTicket` and `StudentTicket` called: `general_valid`, `student_valid`, and `student_invalid`.\n",
        "2. Using f-strings, print the ticket details for each ticket.\n",
        "3. Use the `validate()` method on a `StudentTicket` to test if it correctly checks the `student_id` against the database."
      ],
      "metadata": {
        "id": "9vC4n8dkpG7J"
      }
    },
    {
      "cell_type": "code",
      "source": [
        "# Database of valid student IDs\n",
        "student_database = [\"ND12345\", \"ND67890\", \"ND54321\"]"
      ],
      "metadata": {
        "id": "jep2GBvIpKDE"
      },
      "execution_count": null,
      "outputs": []
    },
    {
      "cell_type": "code",
      "source": [
        "# Create tickets\n"
      ],
      "metadata": {
        "id": "IdTw95OKp6Xd"
      },
      "execution_count": null,
      "outputs": []
    },
    {
      "cell_type": "markdown",
      "source": [
        "## **Secondary Objective**\n",
        "### You will create a TicketValidator class to validate tickets in a systematic way. This class will:\n",
        "\n",
        "1. Validate `GeneralAdmissionTicket` objects against a `ticket_database`.\n",
        "2. Validate `StudentTicket` objects against a `student_database`.\n",
        "3. Print the result for each ticket, indicating whether it is valid or invalid, along with the reason if invalid.\n",
        "\n"
      ],
      "metadata": {
        "id": "l4UWJBp9p9ZX"
      }
    },
    {
      "cell_type": "code",
      "source": [
        "# Database of valid ticket IDs and seat numbers\n",
        "ticket_database = {\n",
        "        1: \"A12\",\n",
        "        2: \"B14\",\n",
        "        3: \"C15\"}"
      ],
      "metadata": {
        "id": "B_H2n8hbeL0M"
      },
      "execution_count": null,
      "outputs": []
    },
    {
      "cell_type": "markdown",
      "source": [
        "### A. Define the TicketValidator Class\n",
        "1. Create a class called `TicketValidator`.\n",
        "2. Attributes include:\n",
        "- `ticket`: The ticket to be validated.\n",
        "- `student_database`: A list of valid student IDs.\n",
        "- `ticket_database`: A dictionary of valid ticket_id and seat_number pairs.\n",
        "3. Store these parameters as attributes of the class."
      ],
      "metadata": {
        "id": "anAPdiWpse50"
      }
    },
    {
      "cell_type": "markdown",
      "source": [
        "### B. Implement the validate_ticket() Method\n",
        "1. Inside `TicketValidator`, define a `validate_ticket()` method.\n",
        "2. Use `isinstance()` to determine the type of the ticket:\n",
        "- For `GeneralAdmissionTicket`:\n",
        "    - Check if the `ticket_id` and `seat_number` match an entry in the `ticket_database` dictionary.\n",
        "    - Print `\"VALID\"` if they match, otherwise print `\"INVALID (Ticket ID or seat number not found in database)\"`.\n",
        "- For `StudentTicket`:\n",
        "    - Call the ticket's `validate()` method and pass the `student_database`.\n",
        "    - Print `\"VALID\" if the student ID exists, otherwise print \"INVALID (Invalid student ID)\"`."
      ],
      "metadata": {
        "id": "m4oqbdUJsw7u"
      }
    },
    {
      "cell_type": "code",
      "source": [
        "# Ticket Validator Class\n"
      ],
      "metadata": {
        "id": "S7PyBWcbeIL2"
      },
      "execution_count": null,
      "outputs": []
    },
    {
      "cell_type": "markdown",
      "source": [
        "### C. Test the TicketValidator\n",
        "1. Use the ticket objects created in the first part of the exercise:\n",
        "    - One valid and one invalid `GeneralAdmissionTicket`.\n",
        "    - One valid and one invalid `StudentTicket`.\n",
        "2. Create a `TicketValidator` object for each ticket and call its `validate_ticket()` method to test validation."
      ],
      "metadata": {
        "id": "5b-wTW2rtWW2"
      }
    },
    {
      "cell_type": "code",
      "source": [
        "# Create tickets\n",
        "\n",
        "\n",
        "# Validate tickets\n"
      ],
      "metadata": {
        "id": "2eYR61Q9e5yZ"
      },
      "execution_count": null,
      "outputs": []
    }
  ]
}