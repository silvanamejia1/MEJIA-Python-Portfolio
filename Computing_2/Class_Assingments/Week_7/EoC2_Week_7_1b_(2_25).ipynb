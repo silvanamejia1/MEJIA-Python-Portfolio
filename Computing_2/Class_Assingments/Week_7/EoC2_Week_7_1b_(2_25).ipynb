{
  "nbformat": 4,
  "nbformat_minor": 0,
  "metadata": {
    "colab": {
      "provenance": [],
      "toc_visible": true
    },
    "kernelspec": {
      "name": "python3",
      "display_name": "Python 3"
    },
    "language_info": {
      "name": "python"
    }
  },
  "cells": [
    {
      "cell_type": "markdown",
      "source": [
        "# Big 0 & Time Complexity with Python"
      ],
      "metadata": {
        "id": "D8UgsWIEAHqZ"
      }
    },
    {
      "cell_type": "markdown",
      "source": [
        "## Section 1: Imports and Setup\n",
        "\n",
        "### In this section we import the required libraries.\n",
        "- time: For measuring execution time of functions.\n",
        "- math: Provides mathematical functions (used for logarithms)."
      ],
      "metadata": {
        "id": "p1VBAfMA-jJU"
      }
    },
    {
      "cell_type": "code",
      "source": [
        "import time\n",
        "import math"
      ],
      "metadata": {
        "id": "JgiFnN5o7oDV"
      },
      "execution_count": 3,
      "outputs": []
    },
    {
      "cell_type": "markdown",
      "source": [
        "## Section 2: Helper Function for Timing\n",
        "This function times how long a given function 'func' takes to run with input n."
      ],
      "metadata": {
        "id": "b1Z8G9li-xzP"
      }
    },
    {
      "cell_type": "code",
      "execution_count": 1,
      "metadata": {
        "id": "D4Wx-jyZ7ile"
      },
      "outputs": [],
      "source": [
        "def time_function(func, n):\n",
        "    \"\"\"Times how long it takes to run func(n).\"\"\"\n",
        "    start = time.perf_counter()\n",
        "    func(n)\n",
        "    return time.perf_counter() - start"
      ]
    },
    {
      "cell_type": "markdown",
      "source": [
        "## Section 3: Complexity Functions\n",
        "The following functions are examples of different time complexities.\n",
        "\n",
        "A Markdown table summarizing each function is provided below."
      ],
      "metadata": {
        "id": "EICYJ0AT--f-"
      }
    },
    {
      "cell_type": "markdown",
      "source": [
        "| Function          | Time Complexity | Description                                                      | Operation Behavior                  |\n",
        "|-------------------|-----------------|------------------------------------------------------------------|-------------------------------------|\n",
        "| constant_time     | O(1)            | Fixed operation regardless of input size.                        | Always one multiplication (or fixed steps) regardless of n.  |\n",
        "| logarithmic_time  | O(log n)       | Repeatedly halves n until it becomes 1.                           | Approximately log₂(n) iterations.    |\n",
        "| linear_time       | O(n)            | Iterates through every element from 0 to n-1.                     | n iterations (one loop over n items).|\n",
        "| n_log_n_time      | O(n log n)      | For each element, performs an inner loop that runs in O(log n) time.| Roughly n × log₂(n) operations.      |\n",
        "| quadratic_time    | O(n²)           | Uses nested loops to iterate through all pairs of elements.       | n × n (or n²) iterations.            |\n"
      ],
      "metadata": {
        "id": "Li99bwGj9CYg"
      }
    },
    {
      "cell_type": "code",
      "source": [
        "# -------------------------------\n",
        "# Constant Time Complexity: O(1)\n",
        "# -------------------------------\n",
        "def constant_time(n):\n",
        "    \"\"\"O(1): Does a fixed amount of work regardless of n.\"\"\"\n",
        "    # Multiply n by 2; this operation is performed once,\n",
        "    # so the number of steps does not depend on the value of n.\n",
        "    return n * 2\n",
        "\n",
        "# -------------------------------\n",
        "# Logarithmic Time Complexity: O(log n)\n",
        "# -------------------------------\n",
        "def logarithmic_time(n):\n",
        "    \"\"\"O(log n): Halves n repeatedly until it becomes 1.\"\"\"\n",
        "    count = 0\n",
        "    # The loop will continue until n is reduced to 1.\n",
        "    # In each iteration, n is halved (using integer division),\n",
        "    # which means the number of iterations grows logarithmically with n.\n",
        "    while n > 1:\n",
        "        n //= 2  # Divide n by 2 and update n.\n",
        "        count += 1  # Increment the counter to record the step.\n",
        "    return count\n",
        "\n",
        "# -------------------------------\n",
        "# Linear Time Complexity: O(n)\n",
        "# -------------------------------\n",
        "def linear_time(n):\n",
        "    \"\"\"O(n): Loops through n items.\"\"\"\n",
        "    total = 0\n",
        "    # Loop through each number from 0 to n-1.\n",
        "    # The loop executes exactly n times, making the time complexity linear.\n",
        "    for i in range(n):\n",
        "        total += i  # Add the current number to total.\n",
        "    return total\n",
        "\n",
        "# -------------------------------\n",
        "# n log n Time Complexity: O(n log n)\n",
        "# -------------------------------\n",
        "def n_log_n_time(n):\n",
        "    \"\"\"O(n log n): For each of n iterations, does a loop that runs in O(log n) time.\"\"\"\n",
        "    total = 0\n",
        "    # Outer loop runs n times.\n",
        "    for i in range(n):\n",
        "        j = 1\n",
        "        # Inner loop multiplies j by 2 each time.\n",
        "        # This inner loop runs in logarithmic time because j grows exponentially.\n",
        "        while j < n:\n",
        "            total += 1  # Perform a simple operation.\n",
        "            j *= 2  # Increase j exponentially.\n",
        "    return total\n",
        "\n",
        "# -------------------------------\n",
        "# Quadratic Time Complexity: O(n²)\n",
        "# -------------------------------\n",
        "def quadratic_time(n):\n",
        "    \"\"\"O(n^2): Nested loops over n items each.\"\"\"\n",
        "    total = 0\n",
        "    # The outer loop runs n times.\n",
        "    for i in range(n):\n",
        "        # For each iteration of the outer loop, the inner loop also runs n times.\n",
        "        # This results in n * n total iterations, which is quadratic.\n",
        "        for j in range(n):\n",
        "            total += 1  # Simple operation executed in each inner iteration.\n",
        "    return total"
      ],
      "metadata": {
        "id": "2CXPsgfL7lsG"
      },
      "execution_count": 15,
      "outputs": []
    },
    {
      "cell_type": "markdown",
      "source": [
        "## Section 4: Timing the Complexity Functions\n",
        "In this section, we measure and print the execution time for each complexity function over various input sizes. This demonstrates how the run time grows as input size increases.\n"
      ],
      "metadata": {
        "id": "jv1Md9MX_vVu"
      }
    },
    {
      "cell_type": "code",
      "source": [
        "n_values = [100, 200, 400, 800, 1600]\n",
        "\n",
        "print(\"Timing complexity functions for various input sizes:\\n\")\n",
        "header = \"n\\tO(1)\\t\\tO(log n)\\tO(n)\\t\\tO(n log n)\\tO(n^2)\"\n",
        "print(header)\n",
        "print(\"-\" * len(header.expandtabs()))\n",
        "\n",
        "for n in n_values:\n",
        "    t_const  = time_function(constant_time, n)\n",
        "    t_log    = time_function(logarithmic_time, n)\n",
        "    t_linear = time_function(linear_time, n)\n",
        "    t_nlogn  = time_function(n_log_n_time, n)\n",
        "    t_quad   = time_function(quadratic_time, n)\n",
        "\n",
        "    # Format the timings (note: small functions may take near 0.0 seconds)\n",
        "    print(f\"{n}\\t{t_const:.6f}\\t{t_log:.6f}\\t{t_linear:.6f}\\t{t_nlogn:.6f}\\t{t_quad:.6f}\")"
      ],
      "metadata": {
        "colab": {
          "base_uri": "https://localhost:8080/"
        },
        "id": "5I5zaijf7taE",
        "outputId": "7da404ce-6ddb-43e5-ec04-d9bba53627e5"
      },
      "execution_count": 16,
      "outputs": [
        {
          "output_type": "stream",
          "name": "stdout",
          "text": [
            "Timing complexity functions for various input sizes:\n",
            "\n",
            "n\tO(1)\t\tO(log n)\tO(n)\t\tO(n log n)\tO(n^2)\n",
            "------------------------------------------------------------------------------\n",
            "100\t0.000001\t0.000002\t0.000007\t0.000036\t0.000298\n",
            "200\t0.000000\t0.000001\t0.000006\t0.000075\t0.001213\n",
            "400\t0.000000\t0.000001\t0.000014\t0.000169\t0.005507\n",
            "800\t0.000001\t0.000002\t0.000028\t0.000406\t0.025111\n",
            "1600\t0.000001\t0.000003\t0.000057\t0.000868\t0.093020\n"
          ]
        }
      ]
    }
  ]
}