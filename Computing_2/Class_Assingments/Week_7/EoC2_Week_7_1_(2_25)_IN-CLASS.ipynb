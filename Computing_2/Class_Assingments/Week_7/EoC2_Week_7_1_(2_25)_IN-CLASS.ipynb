{
 "cells": [
  {
   "cell_type": "markdown",
   "metadata": {
    "id": "K8dtVfO0BmMO"
   },
   "source": [
    "## Arrays in Python\n",
    "- **Concept:** An array is an ordered collection of items.\n",
    "- **In Python:** We use lists, which are dynamic arrays.\n",
    "- **Performance:** Direct indexing is O(1).\n",
    "- **Interview Tip:** Practice common array problems (e.g., reversing, rotating arrays) to build your pattern recognition."
   ]
  },
  {
   "cell_type": "code",
   "execution_count": 2,
   "metadata": {
    "id": "6Pzda7X7Bp0s"
   },
   "outputs": [
    {
     "name": "stdout",
     "output_type": "stream",
     "text": [
      "Treat for Dec 1: Candy\n"
     ]
    }
   ],
   "source": [
    "# Creating a simple list (dynamic array) in Python\n",
    "advent_calendar = [\"Candy\", \"Cookie\", \"Chocolate\", \"Gum\", \"Lollipop\"]\n",
    "\n",
    "# Accessing an element using zero-based indexing\n",
    "print(\"Treat for Dec 1:\", advent_calendar[0])"
   ]
  },
  {
   "cell_type": "markdown",
   "metadata": {
    "id": "CWENDWYrDzH-"
   },
   "source": [
    "### Interview Example: Rotate an Array In-Place\n",
    "\n",
    "Many interview problems (like rotating arrays) assume you have a strong grasp of array basics—such as indexing, slicing, and in-place modifications. Knowing how to manipulate arrays efficiently is key to solving more advanced problems.\n",
    "\n",
    "#### **Approach: The Three-Reversal Method**\n",
    "A common efficient approach is to use the three-reversal method:\n",
    "\n",
    "- 1. Reverse the entire array.\n",
    "- 2. Reverse the first `k` elements.\n",
    "- 3. Reverse the remaining `n - k` elements.\n",
    "\n",
    "This approach rotates the array in-place and has a time complexity of O(n) with O(1) extra space.\n",
    "\n",
    "\n",
    "```\n",
    "# Example usage:\n",
    "nums = [1, 2, 3, 4, 5, 6, 7]\n",
    "rotate(nums, 3)\n",
    "print(\"Rotated Array:\", nums)\n",
    "```\n",
    "```\n",
    "# Expected output: [5, 6, 7, 1, 2, 3, 4]\n",
    "```\n"
   ]
  },
  {
   "cell_type": "markdown",
   "metadata": {
    "id": "Zly0mQTRFksN"
   },
   "source": [
    "**Step-by-Step Explanation**\n",
    "\n",
    "**1.   Normalize k:**\n",
    "- If k is larger than the length of the array, k %= n reduces it so that only the effective rotations are performed.\n",
    "\n",
    "**2.   Reverse the Entire Array:**\n",
    "- Reversing the whole array prepares it so that the elements we need at the front end up at the beginning when partially reversed again. The entire array is reversed using `nums[::-1]`.\n",
    "\n",
    "**3.   Reverse the First k Elements:**\n",
    "- The first k elements of the reversed array are reversed again. This puts the first k elements (which were originally at the end) into the correct order.\n",
    "\n",
    "**4.   Reverse the Remaining n - k Elements:**\n",
    "- This final reversal places the remaining elements in their proper order.\n",
    "\n",
    "**5.   Combine:**\n",
    "- The two segments are concatenated to form the final rotated array: `[5, 6, 7, 1, 2, 3, 4]`.\n",
    "\n",
    "\n"
   ]
  },
  {
   "cell_type": "code",
   "execution_count": 1,
   "metadata": {
    "id": "p2LezO0SGoaU"
   },
   "outputs": [
    {
     "data": {
      "text/plain": [
       "[2, 3, 4, 5, 6, 7, 1]"
      ]
     },
     "execution_count": 1,
     "metadata": {},
     "output_type": "execute_result"
    }
   ],
   "source": [
    "nums = [1,2,3,4,5,6,7]\n",
    "\n",
    "#normalize k\n",
    "n = len(nums)\n",
    "k = 1000\n",
    "\n",
    "k%=n\n",
    "\n",
    "#Revers ethe entire array\n",
    "rev_nums = nums[::-1]\n",
    "\n",
    "#Reverse teh first k elemnts in our reverser array\n",
    "k_rev=rev_nums[:k][::-1]\n",
    "\n",
    "#Reverse remining elements\n",
    "rem_rev=rev_nums[k:][::-1]\n",
    "\n",
    "#Combine\n",
    "k_rev + rem_rev"
   ]
  },
  {
   "cell_type": "markdown",
   "metadata": {
    "id": "udFTETgWE1H5"
   },
   "source": [
    "## Stacks in Python"
   ]
  },
  {
   "cell_type": "markdown",
   "metadata": {
    "id": "8SLVA4M6LJzx"
   },
   "source": [
    "### Browser History\n",
    "- **Concept:**  \n",
    "  - Stacks use a Last-In, First-Out order.\n",
    "  - Browser history: \"Back\" button pops the last URL.\n",
    "- **Performance:**  \n",
    "  - Both push and pop operations run in O(1) time."
   ]
  },
  {
   "cell_type": "code",
   "execution_count": 4,
   "metadata": {
    "id": "ueyVG2yVK9GY"
   },
   "outputs": [
    {
     "name": "stdout",
     "output_type": "stream",
     "text": [
      "['google.com', 'wikipedia.org']\n",
      "['google.com']\n"
     ]
    }
   ],
   "source": [
    "# Building a \"BrowserHistory\" class that returns the previously stored url\n",
    "class BrowserHistory:\n",
    "    def __init__(self):\n",
    "        self.history = []\n",
    "\n",
    "    def visit_page(self, url): #every method starts with self, URL link is appended to the list\n",
    "        \"\"\"Simulate visiting a webpage by pushing the URL onto the history stack.\"\"\" \n",
    "        self.history.append(url) #we are adding to the stack \n",
    "    \n",
    "    def go_back(self):\n",
    "        \"\"\"Simulate the 'Back' button by popping the last visited URL.\"\"\"\n",
    "        if self.history:\n",
    "            return self.history.pop() #LIFO method \n",
    "        return \"No history available\" \n",
    "    \n",
    "# Demonstration of the stack behavior:\n",
    "#This uses O(1) time compelxity\n",
    "history = BrowserHistory()\n",
    "history.visit_page(\"google.com\") #first link would be google\n",
    "history.visit_page(\"wikipedia.org\") #second link would be wikipedia \n",
    "print(history.history)\n",
    "undo_1= history.go_back() #Wikipedia\n",
    "print(history.history)\n",
    "undo_2 = history.go_back() #Google\n",
    "\n",
    "#Use print(history.history) to see what urls are in the list until now\n",
    "#Use history.go_back to see the lats visited website"
   ]
  },
  {
   "cell_type": "markdown",
   "metadata": {
    "id": "1aAobNytBmJp"
   },
   "source": [
    "### Interview Example: Palindrome Checker\n",
    "**Step-by-Step Explanation**\n",
    "**1. Normalization:**\n",
    "- We convert the input string to lowercase so that comparisons are case-insensitive.\n",
    "\n",
    "**2. Stack Creation and Population:**\n",
    "- We create an empty list stack and push each character of the string onto the stack.\n",
    "\n",
    "- For \"racecar\", the stack becomes `['r', 'a', 'c', 'e', 'c', 'a', 'r']`.\n",
    "\n",
    "**3. Reversing the String:**\n",
    "- We initialize an empty string `reversed_str`. Then, while the stack is not empty, we pop characters from the stack (which removes them in reverse order) and append them to `reversed_str`.\n",
    "- Popping all elements from the stack gives us \"racecar\" for a palindrome or a different string if it's not one.\n",
    "\n",
    "**4. Comparison:**\n",
    "Finally, we compare the normalized original string with the reversed string. If they match, the string is a palindrome.\n",
    "\n",
    "\n",
    "\n",
    "```\n",
    "# Test cases\n",
    "print(\"racecar:\", is_palindrome(\"racecar\"))   # Expected True\n",
    "print(\"hello:\", is_palindrome(\"hello\"))         # Expected False\n",
    "print(\"Madam:\", is_palindrome(\"Madam\"))         # Expected True\n",
    "```\n",
    "\n",
    "\n"
   ]
  },
  {
   "cell_type": "code",
   "execution_count": 15,
   "metadata": {
    "id": "pdCBhO4MMJgj"
   },
   "outputs": [
    {
     "name": "stdout",
     "output_type": "stream",
     "text": [
      "['m', 'a', 'd', 'a', 'm']\n"
     ]
    },
    {
     "data": {
      "text/plain": [
       "False"
      ]
     },
     "execution_count": 15,
     "metadata": {},
     "output_type": "execute_result"
    }
   ],
   "source": [
    "string_obj = 'Madam'\n",
    "\n",
    "#Normalize teh stirng\n",
    "string_obj=string_obj.lower() #Will make everything lowercase\n",
    "\n",
    "#Step 1: Create an empty stack and push each character onto it\n",
    "chr_stack=[]\n",
    "for char in string_obj:\n",
    "    chr_stack.append(char)\n",
    "chr_stack\n",
    "\n",
    "# Step 2: Build a reverse string by poping all of the elements from the stack\n",
    "reversed_str = []\n",
    "while chr_stack:\n",
    "    reversed_str += chr_stack.pop()\n",
    "print(reversed_str)\n",
    "\n",
    "# Step 3: \n",
    "string_obj == reversed_str"
   ]
  },
  {
   "cell_type": "markdown",
   "metadata": {
    "id": "BT447BPbQI3m"
   },
   "source": [
    "## Queues in Python\n",
    "[See Geek for Geeks on Deque in Python](https://www.geeksforgeeks.org/deque-in-python/)"
   ]
  },
  {
   "cell_type": "markdown",
   "metadata": {
    "id": "3zPA2t26BmHE"
   },
   "source": [
    "### Support Queue Using deque\n",
    "- **Concept:**  \n",
    "  - A queue maintains FIFO order.\n",
    "  - `deque` allows for efficient append and popleft operations (O(1)).\n",
    "- **Interview Tip:**  \n",
    "  - Understand queue applications, such as level-order tree traversals (BFS), which are common in interview questions.\n"
   ]
  },
  {
   "cell_type": "code",
   "execution_count": null,
   "metadata": {
    "id": "5L7yZUMelrCJ"
   },
   "outputs": [],
   "source": []
  },
  {
   "cell_type": "markdown",
   "metadata": {
    "id": "ne5e8C0uRGOt"
   },
   "source": [
    "### Interview Example: Scheduling Tasks"
   ]
  },
  {
   "cell_type": "markdown",
   "metadata": {
    "id": "GL24lgGfRg9f"
   },
   "source": [
    "**Step-by-Step Explanation**\n",
    "\n",
    "**1.   Queue Initialization:**\n",
    "We create a queue using deque(tasks), which organizes our tasks in the order they were added.\n",
    "\n",
    "\n",
    "**2.   Processing Loop:**\n",
    "We repeatedly remove the task at the front of the queue using `popleft()` (simulating a FIFO order) and then print it out.\n",
    "\n",
    "**3. Final Output:**\n",
    "The tasks are processed in the exact order they arrived, demonstrating a basic scheduling scenario with a queue."
   ]
  },
  {
   "cell_type": "code",
   "execution_count": null,
   "metadata": {
    "colab": {
     "base_uri": "https://localhost:8080/"
    },
    "executionInfo": {
     "elapsed": 31,
     "status": "ok",
     "timestamp": 1740439508319,
     "user": {
      "displayName": "David Smiley",
      "userId": "04196970161563073370"
     },
     "user_tz": 300
    },
    "id": "GJiXVrMMRw-G",
    "outputId": "75752a5f-209b-441b-8239-795dfac3b57a"
   },
   "outputs": [
    {
     "name": "stdout",
     "output_type": "stream",
     "text": [
      "Processing: Task 1: Check email\n",
      "Processing: Task 2: Attend meeting\n",
      "Processing: Task 3: Write report\n"
     ]
    }
   ],
   "source": [
    "from collections import deque\n",
    "\n",
    "def process_tasks(tasks):\n",
    "    \"\"\"\n",
    "    Processes tasks in a First-In-First-Out (FIFO) manner using a queue.\n",
    "\n",
    "    Interview Connection:\n",
    "    Queue-based problems often show up in scheduling questions where tasks are processed\n",
    "    in the order they arrive.\n",
    "\n",
    "    Steps:\n",
    "    1. Initialize a queue with the list of tasks.\n",
    "    2. While the queue is not empty, remove the task at the front.\n",
    "    3. Process (print) each task.\n",
    "    \"\"\"\n",
    "    # Step 1: Initialize the queue with the list of tasks.\n",
    "    queue = deque(tasks)\n",
    "\n",
    "    # Step 2: Process tasks until the queue is empty.\n",
    "    while queue:\n",
    "        # Remove and get the task at the front of the queue.\n",
    "        current_task = queue.popleft()\n",
    "        # Step 3: Process the task.\n",
    "        print(\"Processing:\", current_task)\n",
    "\n",
    "# Example usage:\n",
    "tasks = [\"Task 1: Check email\", \"Task 2: Attend meeting\", \"Task 3: Write report\"]\n",
    "process_tasks(tasks)"
   ]
  }
 ],
 "metadata": {
  "colab": {
   "authorship_tag": "ABX9TyO2dUYSRgH2M4e78HIMtOAg",
   "provenance": [],
   "toc_visible": true
  },
  "kernelspec": {
   "display_name": "base",
   "language": "python",
   "name": "python3"
  },
  "language_info": {
   "codemirror_mode": {
    "name": "ipython",
    "version": 3
   },
   "file_extension": ".py",
   "mimetype": "text/x-python",
   "name": "python",
   "nbconvert_exporter": "python",
   "pygments_lexer": "ipython3",
   "version": "3.12.7"
  }
 },
 "nbformat": 4,
 "nbformat_minor": 0
}
